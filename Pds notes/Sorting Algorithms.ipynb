{
 "cells": [
  {
   "cell_type": "markdown",
   "id": "18719e07",
   "metadata": {},
   "source": [
    "Sorting algorithms are algorithms that arrange elements in a specific order, such as ascending or descending. "
   ]
  },
  {
   "cell_type": "markdown",
   "id": "de35b0c0",
   "metadata": {},
   "source": [
    "Bubble Sort is a simple sorting algorithm that repeatedly steps through a list of elements, compares adjacent elements, and swaps them if they're in the wrong order. The algorithm gets its name because smaller elements \"bubble\" to the top of the list while larger elements \"sink\" to the bottom.\n",
    "\n",
    "Here's how Bubble Sort works:\n",
    "\n",
    "Start at the beginning of the list.\n",
    "Compare the first two elements. If the first element is larger than the second, swap them.\n",
    "Move to the next pair of elements and repeat step 2.\n",
    "Continue this process until the end of the list is reached.\n",
    "Now, the largest element is at the end of the list. Repeat the process for all remaining elements except the last one.\n",
    "After each iteration, the last unsorted element is in the correct position.\n",
    "Repeat the process until the entire list is sorted.\n",
    "Bubble Sort has a time complexity of O(n^2) in the worst and average cases, where n is the number of elements to be sorted.\n",
    "\n"
   ]
  },
  {
   "cell_type": "code",
   "execution_count": 1,
   "id": "a127256a",
   "metadata": {},
   "outputs": [
    {
     "name": "stdout",
     "output_type": "stream",
     "text": [
      "Sorted array: [11, 12, 22, 25, 34, 64, 90]\n"
     ]
    }
   ],
   "source": [
    "def bubble_sort(arr):\n",
    "    n = len(arr)\n",
    "    for i in range(n - 1):  # Number of passes\n",
    "        for j in range(n - i - 1):  # Compare and swap adjacent elements\n",
    "            if arr[j] > arr[j + 1]:\n",
    "                arr[j], arr[j + 1] = arr[j + 1], arr[j]\n",
    "\n",
    "# Example usage\n",
    "numbers = [64, 34, 25, 12, 22, 11, 90]\n",
    "bubble_sort(numbers)\n",
    "print(\"Sorted array:\", numbers)\n"
   ]
  },
  {
   "cell_type": "markdown",
   "id": "fd7ae7e2",
   "metadata": {},
   "source": [
    "Insertion Sort is a simple sorting algorithm that builds the final sorted array one element at a time. It's like sorting a deck of playing cards by repeatedly inserting the next card into its proper position among the already sorted cards.\n",
    "\n",
    "Here's how Insertion Sort works:\n",
    "\n",
    "Start from the second element (index 1) and consider it as the \"key.\"\n",
    "Compare the key with the previous elements. If the key is smaller, shift the previous elements to the right until a proper position is found for the key.\n",
    "Repeat this process for each element, moving from right to left.\n",
    "The final result is a sorted array.\n",
    "Insertion Sort has a time complexity of O(n^2) in the worst and average cases, where n is the number of elements to be sorted. However, it can be efficient for small input sizes or partially sorted lists."
   ]
  },
  {
   "cell_type": "code",
   "execution_count": 2,
   "id": "ade7b1a5",
   "metadata": {},
   "outputs": [
    {
     "name": "stdout",
     "output_type": "stream",
     "text": [
      "Sorted array: [5, 6, 11, 12, 13]\n"
     ]
    }
   ],
   "source": [
    "def insertion_sort(arr):\n",
    "    for i in range(1, len(arr)):\n",
    "        key = arr[i]\n",
    "        j = i - 1\n",
    "        while j >= 0 and key < arr[j]:\n",
    "            arr[j + 1] = arr[j]\n",
    "            j -= 1\n",
    "        arr[j + 1] = key\n",
    "\n",
    "# Example usage\n",
    "numbers = [12, 11, 13, 5, 6]\n",
    "insertion_sort(numbers)\n",
    "print(\"Sorted array:\", numbers)\n"
   ]
  },
  {
   "cell_type": "markdown",
   "id": "886e6398",
   "metadata": {},
   "source": [
    "Selection Sort is a simple sorting algorithm that works by repeatedly selecting the smallest (or largest, depending on the order) element from the unsorted part of the list and putting it at the beginning (or end) of the sorted part of the list.\n",
    "\n",
    "Here's how Selection Sort works:\n",
    "\n",
    "Find the minimum (or maximum) element from the unsorted part of the list.\n",
    "Swap the found minimum (or maximum) element with the first element of the unsorted part.\n",
    "Move the boundary between the sorted and unsorted parts one element to the right (or left).\n",
    "Repeat steps 1-3 until the entire list is sorted.\n",
    "Selection Sort has a time complexity of O(n^2) in the worst, best, and average cases, where n is the number of elements to be sorted. This makes it less efficient than some other sorting algorithms like Merge Sort or Quick Sort."
   ]
  },
  {
   "cell_type": "code",
   "execution_count": 3,
   "id": "63bfa49e",
   "metadata": {},
   "outputs": [
    {
     "name": "stdout",
     "output_type": "stream",
     "text": [
      "Sorted array: [11, 12, 22, 25, 64]\n"
     ]
    }
   ],
   "source": [
    "def selection_sort(arr):\n",
    "    n = len(arr)\n",
    "    for i in range(n):\n",
    "        min_index = i\n",
    "        for j in range(i + 1, n):\n",
    "            if arr[j] < arr[min_index]:\n",
    "                min_index = j\n",
    "        arr[i], arr[min_index] = arr[min_index], arr[i]\n",
    "\n",
    "# Example usage\n",
    "numbers = [64, 25, 12, 22, 11]\n",
    "selection_sort(numbers)\n",
    "print(\"Sorted array:\", numbers)\n"
   ]
  },
  {
   "cell_type": "markdown",
   "id": "d905a508",
   "metadata": {},
   "source": [
    "Merge Sort is a divide-and-conquer sorting algorithm that divides the unsorted list into smaller sublists, sorts those sublists, and then merges them back together to produce a fully sorted list. It's known for its stability and consistent performance across various input data types.\n",
    "\n",
    "Here's how Merge Sort works:\n",
    "\n",
    "Divide: The unsorted list is divided into two halves. This process is repeated recursively until each sublist contains only one element or is empty.\n",
    "\n",
    "Conquer: Each of these smaller sublists is sorted. This is the base case of the recursion, as a list with one element is already sorted.\n",
    "\n",
    "Merge: The sorted sublists are then merged back together in a way that maintains the sorted order. The merging process involves repeatedly comparing the smallest elements from the two sublists and placing the smaller element into the merged result. This process continues until both sublists are empty.\n",
    "\n",
    "Merge Sort has a time complexity of O(n log n), which makes it more efficient than some other sorting algorithms like Bubble Sort or Insertion Sort, especially for larger datasets. "
   ]
  },
  {
   "cell_type": "code",
   "execution_count": 1,
   "id": "d4a6938b",
   "metadata": {},
   "outputs": [
    {
     "name": "stdout",
     "output_type": "stream",
     "text": [
      "[1, 2, 3, 5, 7, 8, 9]\n"
     ]
    }
   ],
   "source": [
    "def merge_sort(arr):\n",
    "    if len(arr) <= 1:\n",
    "        return arr\n",
    "    \n",
    "    mid = len(arr) // 2\n",
    "    left_half = arr[:mid]\n",
    "    right_half = arr[mid:]\n",
    "    \n",
    "    left_half = merge_sort(left_half)\n",
    "    right_half = merge_sort(right_half)\n",
    "    \n",
    "    return merge(left_half, right_half)\n",
    "\n",
    "def merge(left, right):\n",
    "    result = []\n",
    "    left_idx, right_idx = 0, 0\n",
    "    \n",
    "    while left_idx < len(left) and right_idx < len(right):\n",
    "        if left[left_idx] < right[right_idx]:\n",
    "            result.append(left[left_idx])\n",
    "            left_idx += 1\n",
    "        else:\n",
    "            result.append(right[right_idx])\n",
    "            right_idx += 1\n",
    "    \n",
    "    result.extend(left[left_idx:])\n",
    "    result.extend(right[right_idx:])\n",
    "    return result\n",
    "\n",
    "# Example usage\n",
    "arr = [5, 3, 9, 1, 7, 2, 8]\n",
    "sorted_arr = merge_sort(arr)\n",
    "print(sorted_arr)\n"
   ]
  },
  {
   "cell_type": "markdown",
   "id": "29ec28b3",
   "metadata": {},
   "source": [
    " Quick Sort works by selecting a pivot, partitioning the array, recursively sorting subarrays, and then combining the sorted subarrays. It's known for its efficiency but requires careful pivot selection to maintain its best-case performance.\n",
    "    \n",
    " Quick Sort is efficient on average and has an average-case time complexity of O(n log n). \n",
    "    \n",
    "workflow:\n",
    "\n",
    "Choose a Pivot: Select a pivot element from the array. The choice of pivot can affect the efficiency of the algorithm.\n",
    "\n",
    "Partitioning: Rearrange the array so that all elements less than the pivot come before it, and all elements greater than the pivot come after it. The pivot is now in its correct sorted position.\n",
    "\n",
    "Recursion: Recursively apply the Quick Sort algorithm to the subarrays formed on both sides of the pivot. This step repeats the partitioning and sorting process.\n",
    "\n",
    "Combine: As the subarrays are sorted, the sorted subarrays are combined to form the final sorted array."
   ]
  },
  {
   "cell_type": "code",
   "execution_count": 2,
   "id": "7f10c1e2",
   "metadata": {},
   "outputs": [
    {
     "name": "stdout",
     "output_type": "stream",
     "text": [
      "[1, 2, 3, 5, 7, 8, 9]\n"
     ]
    }
   ],
   "source": [
    "def quick_sort(arr):\n",
    "    if len(arr) <= 1:\n",
    "        return arr\n",
    "    \n",
    "    pivot = arr[len(arr) // 2]\n",
    "    left = [x for x in arr if x < pivot]\n",
    "    middle = [x for x in arr if x == pivot]\n",
    "    right = [x for x in arr if x > pivot]\n",
    "    \n",
    "    return quick_sort(left) + middle + quick_sort(right)\n",
    "\n",
    "# Example usage\n",
    "arr = [5, 3, 9, 1, 7, 2, 8]\n",
    "sorted_arr = quick_sort(arr)\n",
    "print(sorted_arr)\n"
   ]
  },
  {
   "cell_type": "code",
   "execution_count": null,
   "id": "a5f8f367",
   "metadata": {},
   "outputs": [],
   "source": []
  }
 ],
 "metadata": {
  "kernelspec": {
   "display_name": "Python 3 (ipykernel)",
   "language": "python",
   "name": "python3"
  },
  "language_info": {
   "codemirror_mode": {
    "name": "ipython",
    "version": 3
   },
   "file_extension": ".py",
   "mimetype": "text/x-python",
   "name": "python",
   "nbconvert_exporter": "python",
   "pygments_lexer": "ipython3",
   "version": "3.11.3"
  }
 },
 "nbformat": 4,
 "nbformat_minor": 5
}
